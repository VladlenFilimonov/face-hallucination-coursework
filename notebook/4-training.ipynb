{
 "cells": [
  {
   "cell_type": "code",
   "execution_count": 1,
   "id": "f69c6d18",
   "metadata": {},
   "outputs": [],
   "source": [
    "import sys\n",
    "sys.path.append('../')\n",
    "\n",
    "import train"
   ]
  },
  {
   "cell_type": "code",
   "execution_count": 5,
   "id": "619ffeb1",
   "metadata": {},
   "outputs": [
    {
     "name": "stdout",
     "output_type": "stream",
     "text": [
      "# generator parameters: 734219\n",
      "# discriminator parameters: 5215425\n"
     ]
    },
    {
     "name": "stderr",
     "output_type": "stream",
     "text": [
      "[1/20] Loss_D: 0.9978 Loss_G: 0.0067 D(x): 0.8852 D(G(z)): 0.8822: 100%|██████████| 3750/3750 [15:02<00:00,  4.16it/s]\n",
      "[converting LR images to SR images] PSNR: 24.3508 dB SSIM: 0.7915: 100%|██████████| 10001/10001 [06:35<00:00, 25.32it/s]\n",
      "[2/20] Loss_D: 1.0000 Loss_G: 0.0048 D(x): 1.0000 D(G(z)): 1.0000: 100%|██████████| 3750/3750 [14:55<00:00,  4.19it/s]\n",
      "[converting LR images to SR images] PSNR: 24.9423 dB SSIM: 0.8034: 100%|██████████| 10001/10001 [06:16<00:00, 26.56it/s]\n",
      "[3/20] Loss_D: 1.0000 Loss_G: 0.0044 D(x): 1.0000 D(G(z)): 1.0000: 100%|██████████| 3750/3750 [14:50<00:00,  4.21it/s]\n",
      "[converting LR images to SR images] PSNR: 25.0033 dB SSIM: 0.8151: 100%|██████████| 10001/10001 [06:18<00:00, 26.45it/s]\n",
      "[4/20] Loss_D: 1.0000 Loss_G: 0.0043 D(x): 1.0000 D(G(z)): 1.0000: 100%|██████████| 3750/3750 [14:48<00:00,  4.22it/s]\n",
      "[converting LR images to SR images] PSNR: 25.2789 dB SSIM: 0.8180: 100%|██████████| 10001/10001 [06:15<00:00, 26.62it/s]\n",
      "[5/20] Loss_D: 1.0000 Loss_G: 0.0041 D(x): 1.0000 D(G(z)): 1.0000: 100%|██████████| 3750/3750 [14:48<00:00,  4.22it/s]\n",
      "[converting LR images to SR images] PSNR: 25.3352 dB SSIM: 0.8194: 100%|██████████| 10001/10001 [06:16<00:00, 26.57it/s]\n",
      "[6/20] Loss_D: 1.0000 Loss_G: 0.0040 D(x): 1.0000 D(G(z)): 1.0000: 100%|██████████| 3750/3750 [14:50<00:00,  4.21it/s]\n",
      "[converting LR images to SR images] PSNR: 25.3471 dB SSIM: 0.8197: 100%|██████████| 10001/10001 [06:16<00:00, 26.57it/s]\n",
      "[7/20] Loss_D: 1.0000 Loss_G: 0.0040 D(x): 1.0000 D(G(z)): 1.0000: 100%|██████████| 3750/3750 [14:47<00:00,  4.23it/s]\n",
      "[converting LR images to SR images] PSNR: 25.4380 dB SSIM: 0.8229: 100%|██████████| 10001/10001 [06:16<00:00, 26.55it/s]\n",
      "[8/20] Loss_D: 1.0000 Loss_G: 0.0039 D(x): 1.0000 D(G(z)): 1.0000: 100%|██████████| 3750/3750 [14:48<00:00,  4.22it/s]\n",
      "[converting LR images to SR images] PSNR: 25.4766 dB SSIM: 0.8243: 100%|██████████| 10001/10001 [06:18<00:00, 26.44it/s]\n",
      "[9/20] Loss_D: 1.0000 Loss_G: 0.0039 D(x): 1.0000 D(G(z)): 1.0000: 100%|██████████| 3750/3750 [14:47<00:00,  4.23it/s]\n",
      "[converting LR images to SR images] PSNR: 25.5004 dB SSIM: 0.8257: 100%|██████████| 10001/10001 [06:17<00:00, 26.46it/s]\n",
      "[10/20] Loss_D: 1.0000 Loss_G: 0.0038 D(x): 1.0000 D(G(z)): 1.0000: 100%|██████████| 3750/3750 [14:48<00:00,  4.22it/s]\n",
      "[converting LR images to SR images] PSNR: 25.4752 dB SSIM: 0.8242: 100%|██████████| 10001/10001 [06:18<00:00, 26.43it/s]\n",
      "[11/20] Loss_D: 1.0000 Loss_G: 0.0038 D(x): 1.0000 D(G(z)): 1.0000: 100%|██████████| 3750/3750 [14:48<00:00,  4.22it/s]\n",
      "[converting LR images to SR images] PSNR: 25.4898 dB SSIM: 0.8261: 100%|██████████| 10001/10001 [06:17<00:00, 26.50it/s]\n",
      "[12/20] Loss_D: 1.0000 Loss_G: 0.0038 D(x): 1.0000 D(G(z)): 1.0000: 100%|██████████| 3750/3750 [14:47<00:00,  4.23it/s]\n",
      "[converting LR images to SR images] PSNR: 25.5577 dB SSIM: 0.8286: 100%|██████████| 10001/10001 [06:17<00:00, 26.50it/s]\n",
      "[13/20] Loss_D: 1.0000 Loss_G: 0.0038 D(x): 1.0000 D(G(z)): 1.0000: 100%|██████████| 3750/3750 [14:47<00:00,  4.23it/s]\n",
      "[converting LR images to SR images] PSNR: 25.5724 dB SSIM: 0.8292: 100%|██████████| 10001/10001 [06:17<00:00, 26.47it/s]\n",
      "[14/20] Loss_D: 1.0000 Loss_G: 0.0037 D(x): 1.0000 D(G(z)): 1.0000: 100%|██████████| 3750/3750 [14:48<00:00,  4.22it/s]\n",
      "[converting LR images to SR images] PSNR: 25.5552 dB SSIM: 0.8280: 100%|██████████| 10001/10001 [06:17<00:00, 26.52it/s]\n",
      "[15/20] Loss_D: 1.0000 Loss_G: 0.0037 D(x): 1.0000 D(G(z)): 1.0000: 100%|██████████| 3750/3750 [14:46<00:00,  4.23it/s]\n",
      "[converting LR images to SR images] PSNR: 25.5942 dB SSIM: 0.8292: 100%|██████████| 10001/10001 [06:18<00:00, 26.44it/s]\n",
      "[16/20] Loss_D: 1.0000 Loss_G: 0.0037 D(x): 1.0000 D(G(z)): 1.0000: 100%|██████████| 3750/3750 [14:47<00:00,  4.23it/s]\n",
      "[converting LR images to SR images] PSNR: 25.5790 dB SSIM: 0.8291: 100%|██████████| 10001/10001 [06:15<00:00, 26.64it/s]\n",
      "[17/20] Loss_D: 1.0000 Loss_G: 0.0037 D(x): 1.0000 D(G(z)): 1.0000: 100%|██████████| 3750/3750 [14:47<00:00,  4.22it/s]\n",
      "[converting LR images to SR images] PSNR: 25.5970 dB SSIM: 0.8284: 100%|██████████| 10001/10001 [06:18<00:00, 26.44it/s]\n",
      "[18/20] Loss_D: 1.0000 Loss_G: 0.0037 D(x): 1.0000 D(G(z)): 1.0000: 100%|██████████| 3750/3750 [14:47<00:00,  4.23it/s]\n",
      "[converting LR images to SR images] PSNR: 25.5658 dB SSIM: 0.8272: 100%|██████████| 10001/10001 [06:16<00:00, 26.54it/s]\n",
      "[19/20] Loss_D: 1.0000 Loss_G: 0.0037 D(x): 1.0000 D(G(z)): 1.0000: 100%|██████████| 3750/3750 [14:47<00:00,  4.23it/s]\n",
      "[converting LR images to SR images] PSNR: 25.5934 dB SSIM: 0.8296: 100%|██████████| 10001/10001 [06:18<00:00, 26.41it/s]\n",
      "[20/20] Loss_D: 1.0000 Loss_G: 0.0037 D(x): 1.0000 D(G(z)): 1.0000: 100%|██████████| 3750/3750 [14:47<00:00,  4.23it/s]\n",
      "[converting LR images to SR images] PSNR: 25.6312 dB SSIM: 0.8285: 100%|██████████| 10001/10001 [06:17<00:00, 26.51it/s]\n"
     ]
    }
   ],
   "source": [
    "train.train(dataset_dir='../data',\n",
    "      batch_size=16,\n",
    "      num_epochs=20,\n",
    "      training_results_dir='../training_results',\n",
    "      epochs_dir='../epochs',\n",
    "      statistics_dir='../statistics')"
   ]
  },
  {
   "cell_type": "code",
   "execution_count": null,
   "id": "b4568501",
   "metadata": {},
   "outputs": [],
   "source": []
  }
 ],
 "metadata": {
  "kernelspec": {
   "display_name": "Python 3 (ipykernel)",
   "language": "python",
   "name": "python3"
  },
  "language_info": {
   "codemirror_mode": {
    "name": "ipython",
    "version": 3
   },
   "file_extension": ".py",
   "mimetype": "text/x-python",
   "name": "python",
   "nbconvert_exporter": "python",
   "pygments_lexer": "ipython3",
   "version": "3.10.9"
  }
 },
 "nbformat": 4,
 "nbformat_minor": 5
}
